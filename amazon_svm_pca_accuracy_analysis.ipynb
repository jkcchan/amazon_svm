{
 "cells": [
  {
   "cell_type": "code",
   "execution_count": null,
   "metadata": {},
   "outputs": [],
   "source": [
    "from sklearn.decomposition import PCA\n",
    "from sklearn.preprocessing import normalize\n",
    "from sklearn import svm\n",
    "from sklearn import metrics\n",
    "from sklearn.model_selection import train_test_split\n",
    "\n",
    "import numpy as np \n",
    "import pickle\n",
    "\n",
    "import time\n",
    "n_components_iteration = [2, 5, 25, 48, 50, 75, 100]"
   ]
  },
  {
   "cell_type": "code",
   "execution_count": 8,
   "metadata": {},
   "outputs": [
    {
     "name": "stdout",
     "output_type": "stream",
     "text": [
      "2\n",
      "time for 2 components: -0.000109195709229\n",
      "=============\n",
      "5\n",
      "time for 5 components: -2.78949737549e-05\n",
      "=============\n",
      "25\n",
      "time for 25 components: -2.98023223877e-05\n",
      "=============\n",
      "50\n",
      "time for 50 components: -2.90870666504e-05\n",
      "=============\n",
      "75\n",
      "time for 75 components: -9.79900360107e-05\n",
      "=============\n",
      "100\n",
      "time for 100 components: -3.09944152832e-05\n",
      "=============\n"
     ]
    }
   ],
   "source": [
    "pca_classifiers = {}\n",
    "svm_classifiers = {}\n",
    "X_train_transformed_normalized = {}\n",
    "X_test_transformed_normalized = {}\n",
    "for i in n_components_iteration:\n",
    "    start = time.time()\n",
    "    print(i)\n",
    "    \n",
    "    pca_clf = build_pca(i, X_train)\n",
    "    pca_time = time.time()\n",
    "    print(\"PCA fit time for \"+str(i)+\" components: \"+str(pca_time-start))\n",
    "    \n",
    "    X_train_trans_norm = transform_and_normalize(X_train, pca_clf)\n",
    "    X_test_trans_norm = transform_and_normalize(X_test, pca_clf)\n",
    "    trans_norm_time = time.time()\n",
    "    print(\"Transform and Normalization time for \"+str(i)+\" components: \"+str(trans_norm_time-pca_time))\n",
    "\n",
    "    \n",
    "    svm_clf = build_svc(X_train_trans_norm, train_labels)\n",
    "    svm_time = time.time()\n",
    "    print(\"SVM time for \"+str(i)+\" components: \"+str(svm_time-trans_norm_time))\n",
    "\n",
    "    \n",
    "    X_train_transformed_normalized[str(i)] = X_train_trans_norm\n",
    "    X_test_transformed_normalized[str(i)] = X_test_trans_norm\n",
    "    pca_classifiers[str(i)] = pca_clf\n",
    "    svm_classifiers[str(i)] = svm_clf\n",
    "    save_time = time.time()\n",
    "    print(\"Save time for \"+str(i)+\" components: \"+str(save_time-svm_time))\n",
    "\n",
    "    \n",
    "    y_pred_bin = test_svm(svm_clf, X_test_trans_norm)\n",
    "    test_time = time.time()\n",
    "    print(\"Test time for \"+str(i)+\" components: \"+str(test_time-save_time))\n",
    "    \n",
    "    print(\"accuracy for \"+str(i)+\" components:\" + str(metrics.accuracy_score(test_labels, y_pred_bin)))\n",
    "    end = time.time()\n",
    "    print(\"time for \"+str(i)+\" components: \"+str(end-start))\n",
    "    print(\"=============\")\n",
    "save_all(svc=True)"
   ]
  },
  {
   "cell_type": "code",
   "execution_count": null,
   "metadata": {},
   "outputs": [],
   "source": [
    "def build_pca(n_components, X_train):\n",
    "    pca = PCA(n_components=n_components)\n",
    "    pca.fit(X_train)\n",
    "    return pca"
   ]
  },
  {
   "cell_type": "code",
   "execution_count": null,
   "metadata": {},
   "outputs": [],
   "source": [
    "def transform_and_normalize(data, clf):\n",
    "    return normalize(clf.transform(data))"
   ]
  },
  {
   "cell_type": "code",
   "execution_count": null,
   "metadata": {},
   "outputs": [],
   "source": [
    "def build_svm(data, labels):\n",
    "    clf = svm.LinearSVR(random_state=0, tol=1e-5)\n",
    "    clf.fit(data, labels)\n",
    "    return clf"
   ]
  },
  {
   "cell_type": "code",
   "execution_count": null,
   "metadata": {},
   "outputs": [],
   "source": [
    "def build_svc(data, labels):\n",
    "    clf = svm.SVC(gamma='scale')\n",
    "    clf.fit(data, labels)\n",
    "    return clf"
   ]
  },
  {
   "cell_type": "code",
   "execution_count": null,
   "metadata": {},
   "outputs": [],
   "source": [
    "def test_svm(clf, test_data):\n",
    "    y_pred = clf.predict(test_data)\n",
    "    y_pred_bin = [0 if i < 0.5 else 1 for i in y_pred]\n",
    "    return y_pred_bin"
   ]
  },
  {
   "cell_type": "code",
   "execution_count": null,
   "metadata": {},
   "outputs": [],
   "source": [
    "X_train = np.load('./data/X_train.npy')\n",
    "X_test = np.load('./data/X_test.npy')\n",
    "with open(\"train_labels.txt\", \"rb\") as fp:   # Unpickling\n",
    "    train_labels = pickle.load(fp)\n",
    "with open(\"test_labels.txt\", \"rb\") as fp:   # Unpickling\n",
    "    test_labels = pickle.load(fp)"
   ]
  },
  {
   "cell_type": "code",
   "execution_count": null,
   "metadata": {},
   "outputs": [],
   "source": [
    "X_train, X_cv, train_labels, cv_labels = train_test_split(X_train, train_labels, test_size=0.4)"
   ]
  },
  {
   "cell_type": "code",
   "execution_count": null,
   "metadata": {},
   "outputs": [],
   "source": [
    "def save_all(svc=False):\n",
    "    with open('./pca_data/pca_classifiers'+('_svc' if svc else '')+'.pickle', 'wb') as handle:\n",
    "        pickle.dump(pca_classifiers, handle, protocol=pickle.HIGHEST_PROTOCOL)\n",
    "    with open('./pca_data/svm_classifiers'+('_svc' if svc else '')+'.pickle', 'wb') as handle:\n",
    "        pickle.dump(svm_classifiers, handle, protocol=pickle.HIGHEST_PROTOCOL)\n",
    "    with open('./pca_data/X_train_transformed_normalized'+('_svc' if svc else '')+'.pickle', 'wb') as handle:\n",
    "        pickle.dump(X_train_transformed_normalized, handle, protocol=pickle.HIGHEST_PROTOCOL)\n",
    "    with open('./pca_data/X_test_transformed_normalized'+('_svc' if svc else '')+'.pickle', 'wb') as handle:\n",
    "        pickle.dump(X_test_transformed_normalized, handle, protocol=pickle.HIGHEST_PROTOCOL)\n",
    "    "
   ]
  }
 ],
 "metadata": {
  "kernelspec": {
   "display_name": "Python 3",
   "language": "python",
   "name": "python3"
  },
  "language_info": {
   "codemirror_mode": {
    "name": "ipython",
    "version": 2
   },
   "file_extension": ".py",
   "mimetype": "text/x-python",
   "name": "python",
   "nbconvert_exporter": "python",
   "pygments_lexer": "ipython2",
   "version": "2.7.14"
  }
 },
 "nbformat": 4,
 "nbformat_minor": 2
}
