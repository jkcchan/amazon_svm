{
 "cells": [
  {
   "cell_type": "code",
   "execution_count": 14,
   "metadata": {},
   "outputs": [],
   "source": [
    "import time\n",
    "n_components_iteration = [2, 5, 25, 50, 75, 100]"
   ]
  },
  {
   "cell_type": "code",
   "execution_count": 13,
   "metadata": {},
   "outputs": [
    {
     "name": "stdout",
     "output_type": "stream",
     "text": [
      "2\n",
      "-0.000328063964844\n",
      "5\n",
      "-7.48634338379e-05\n",
      "25\n",
      "-8.98838043213e-05\n",
      "50\n",
      "-8.9168548584e-05\n",
      "75\n",
      "-0.0012309551239\n",
      "100\n",
      "-0.000114917755127\n"
     ]
    }
   ],
   "source": [
    "pca_classifiers = []\n",
    "svm_classifiers = []\n",
    "X_train_transformed_normalized = []\n",
    "X_test_transformed_normalized = []\n",
    "for i in n_components_iteration:\n",
    "    start = time.time()\n",
    "    pca_clf = build_pca(i)\n",
    "    pca_classifiers.append(pca_clf)\n",
    "    X_train_trans_norm = normalize(pca_clf.transform(X_train))\n",
    "    X_test_trans_norm = normalize(pca_clf.transform(X_test))\n",
    "    X_train_transformed_normalized.append(X_train_trans_norm)\n",
    "    X_test_transformed_normalized.append(X_test_trans_norm)\n",
    "    # train svm\n",
    "    # save svm\n",
    "    # test svm\n",
    "    end = time.time()\n",
    "    print start-end"
   ]
  }
 ],
 "metadata": {
  "kernelspec": {
   "display_name": "Python 3",
   "language": "python",
   "name": "python3"
  },
  "language_info": {
   "codemirror_mode": {
    "name": "ipython",
    "version": 2
   },
   "file_extension": ".py",
   "mimetype": "text/x-python",
   "name": "python",
   "nbconvert_exporter": "python",
   "pygments_lexer": "ipython2",
   "version": "2.7.14"
  }
 },
 "nbformat": 4,
 "nbformat_minor": 2
}
